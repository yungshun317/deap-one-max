{
 "cells": [
  {
   "cell_type": "code",
   "execution_count": 1,
   "id": "2490fdde",
   "metadata": {},
   "outputs": [],
   "source": [
    "from deap import base, creator, tools, algorithms\n",
    "\n",
    "import random\n",
    "\n",
    "import numpy\n",
    "import matplotlib.pyplot as plt\n",
    "import seaborn as sns"
   ]
  },
  {
   "cell_type": "code",
   "execution_count": 2,
   "id": "ca94b936",
   "metadata": {},
   "outputs": [],
   "source": [
    "# Problem constants\n",
    "# Length of bit string to be optimized\n",
    "ONE_MAX_LENGTH = 100"
   ]
  },
  {
   "cell_type": "code",
   "execution_count": 3,
   "id": "72482039",
   "metadata": {},
   "outputs": [],
   "source": [
    "# Genetic Algorithm constants\n",
    "POPULATION_SIZE = 200\n",
    "# Probability for crossover\n",
    "P_CROSSOVER = 0.9\n",
    "# Probability for mutating an individual\n",
    "P_MUTATION = 0.1\n",
    "MAX_GENERATIONS = 50"
   ]
  },
  {
   "cell_type": "code",
   "execution_count": 4,
   "id": "ce7bdaa7",
   "metadata": {},
   "outputs": [],
   "source": [
    "# Set the random seed\n",
    "RANDOM_SEED = 42\n",
    "random.seed(RANDOM_SEED)"
   ]
  },
  {
   "cell_type": "code",
   "execution_count": 5,
   "id": "fc5d9042",
   "metadata": {},
   "outputs": [],
   "source": [
    "toolbox = base.Toolbox()\n",
    "# Create an operator that randomly returns 0 or 1\n",
    "toolbox.register(\"zeroOrOne\", random.randint, 0, 1)"
   ]
  },
  {
   "cell_type": "code",
   "execution_count": 6,
   "id": "041666f1",
   "metadata": {},
   "outputs": [],
   "source": [
    "# Define the fitness strategy by extending the `base.Fitness` class\n",
    "creator.create(\"FitnessMax\", base.Fitness, weights=(1.0,))"
   ]
  },
  {
   "cell_type": "code",
   "execution_count": 7,
   "id": "01f1a474",
   "metadata": {},
   "outputs": [],
   "source": [
    "# Create the `Individual` class based on `list`\n",
    "creator.create(\"Individual\", list, fitness=creator.FitnessMax)"
   ]
  },
  {
   "cell_type": "code",
   "execution_count": 8,
   "id": "68163eef",
   "metadata": {},
   "outputs": [],
   "source": [
    "# Create the `individualCreator` operator to fill up an `Individual` instance\n",
    "toolbox.register(\"individualCreator\", tools.initRepeat, creator.Individual, toolbox.zeroOrOne, ONE_MAX_LENGTH)"
   ]
  },
  {
   "cell_type": "code",
   "execution_count": 9,
   "id": "5a0793b8",
   "metadata": {},
   "outputs": [],
   "source": [
    "# Create the population operator to generate a list of individuals\n",
    "toolbox.register(\"populationCreator\", tools.initRepeat, list, toolbox.individualCreator)"
   ]
  },
  {
   "cell_type": "code",
   "execution_count": 10,
   "id": "6a36c5f6",
   "metadata": {},
   "outputs": [],
   "source": [
    "# Fitness Calculation\n",
    "# Compute the number of `1`s in the individual\n",
    "def oneMaxFitness(individual):\n",
    "    # Return a Tuple\n",
    "    return sum(individual),\n",
    "\n",
    "toolbox.register(\"evaluate\", oneMaxFitness)"
   ]
  },
  {
   "cell_type": "code",
   "execution_count": 11,
   "id": "d486b8bb",
   "metadata": {},
   "outputs": [],
   "source": [
    "# Genetic Operators\n",
    "# Tournament selection with tournament size of `3`\n",
    "toolbox.register(\"select\", tools.selTournament, tournsize=3)"
   ]
  },
  {
   "cell_type": "code",
   "execution_count": 12,
   "id": "dbb22d2f",
   "metadata": {},
   "outputs": [],
   "source": [
    "# Single point crossover\n",
    "toolbox.register(\"mate\", tools.cxOnePoint)"
   ]
  },
  {
   "cell_type": "code",
   "execution_count": 13,
   "id": "f9e6d173",
   "metadata": {},
   "outputs": [],
   "source": [
    "# Flip-bit mutation\n",
    "# `indpb`: Independent probability for each attribute to be flipped\n",
    "toolbox.register(\"mutate\", tools.mutFlipBit, indpb=1.0/ONE_MAX_LENGTH)"
   ]
  },
  {
   "cell_type": "code",
   "execution_count": null,
   "id": "6dd9d64f",
   "metadata": {},
   "outputs": [],
   "source": [
    "# Genetic algorithm flow\n",
    "def main():\n",
    "    \n",
    "    # Create initial population (generation 0)\n",
    "    population = toolbox.populationCreator(n=POPULATION_SIZE)\n",
    "    \n",
    "    # Prepare the statistics object\n",
    "    stats = tools.Statistics(lambda ind: ind.fitness.values)\n",
    "    stats.register(\"max\", numpy.max)\n",
    "    stats.register(\"min\", numpy.min)"
   ]
  }
 ],
 "metadata": {
  "kernelspec": {
   "display_name": "Python 3 (ipykernel)",
   "language": "python",
   "name": "python3"
  },
  "language_info": {
   "codemirror_mode": {
    "name": "ipython",
    "version": 3
   },
   "file_extension": ".py",
   "mimetype": "text/x-python",
   "name": "python",
   "nbconvert_exporter": "python",
   "pygments_lexer": "ipython3",
   "version": "3.8.8"
  }
 },
 "nbformat": 4,
 "nbformat_minor": 5
}
