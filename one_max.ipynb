{
 "cells": [
  {
   "cell_type": "code",
   "execution_count": 2,
   "id": "90922018",
   "metadata": {},
   "outputs": [],
   "source": [
    "from deap import base, creator, tools\n",
    "import random"
   ]
  },
  {
   "cell_type": "code",
   "execution_count": null,
   "id": "1a0ee98d",
   "metadata": {},
   "outputs": [],
   "source": [
    "# Problem constants\n",
    "# Length of bit string to be optimized\n",
    "ONE_MAX_LENGTH = 100"
   ]
  },
  {
   "cell_type": "code",
   "execution_count": 5,
   "id": "5f46c950",
   "metadata": {},
   "outputs": [
    {
     "name": "stdout",
     "output_type": "stream",
     "text": [
      "[0, 0, 0, 1, 0, 1, 0, 0, 0, 1, 1, 0, 1, 1, 1, 0, 0, 0, 0, 1, 0, 0, 1, 0, 0, 1, 0, 0, 0, 1]\n"
     ]
    }
   ],
   "source": [
    "toolbox = base.Toolbox()\n",
    "# Define the alias of `random.randint(0, 1)` as `zeroOrOne`\n",
    "toolbox.register(\"zeroOrOne\", random.randint, 0, 1)\n",
    "# Populate a `list` with `initRepeat`\n",
    "randomList = tools.initRepeat(list, toolbox.zeroOrOne, 30)\n",
    "print(randomList)"
   ]
  },
  {
   "cell_type": "code",
   "execution_count": 6,
   "id": "71c74979",
   "metadata": {},
   "outputs": [],
   "source": [
    "# Define the fitness strategy by extending the `base.Fitness` class\n",
    "creator.create(\"FitnessMax\", base.Fitness, weights=(1.0,))"
   ]
  },
  {
   "cell_type": "code",
   "execution_count": 7,
   "id": "c9a8a63b",
   "metadata": {},
   "outputs": [],
   "source": [
    "# Create the `Individual` class based on `list`\n",
    "creator.create(\"Individual\", list, fitness=creator.FitnessMax)"
   ]
  },
  {
   "cell_type": "code",
   "execution_count": null,
   "id": "0e6397da",
   "metadata": {},
   "outputs": [],
   "source": [
    "# Create the `individualCreator` operator to fill up an `Individual` instance\n",
    "toolbox.register(\"individualCreator\", tools.initRepeat, creator.Individual, toolbox.zeroOrOne, ONE_MAX_LENGTH)"
   ]
  }
 ],
 "metadata": {
  "kernelspec": {
   "display_name": "Python 3 (ipykernel)",
   "language": "python",
   "name": "python3"
  },
  "language_info": {
   "codemirror_mode": {
    "name": "ipython",
    "version": 3
   },
   "file_extension": ".py",
   "mimetype": "text/x-python",
   "name": "python",
   "nbconvert_exporter": "python",
   "pygments_lexer": "ipython3",
   "version": "3.8.8"
  }
 },
 "nbformat": 4,
 "nbformat_minor": 5
}
