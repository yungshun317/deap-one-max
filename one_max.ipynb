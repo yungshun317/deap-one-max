{
 "cells": [
  {
   "cell_type": "code",
   "execution_count": 1,
   "id": "20c591b5",
   "metadata": {},
   "outputs": [],
   "source": [
    "from deap import base, creator, tools\n",
    "import random"
   ]
  },
  {
   "cell_type": "code",
   "execution_count": 2,
   "id": "43f62182",
   "metadata": {},
   "outputs": [],
   "source": [
    "# Problem constants\n",
    "# Length of bit string to be optimized\n",
    "ONE_MAX_LENGTH = 100"
   ]
  },
  {
   "cell_type": "code",
   "execution_count": 3,
   "id": "d08ae72b",
   "metadata": {},
   "outputs": [],
   "source": [
    "# Genetic Algorithm constants\n",
    "POPULATION_SIZE = 200\n",
    "# Probability for crossover\n",
    "P_CROSSOVER = 0.9\n",
    "# Probability for mutating an individual\n",
    "P_MUTATION = 0.1\n",
    "MAX_GENERATIONS = 50"
   ]
  },
  {
   "cell_type": "code",
   "execution_count": 4,
   "id": "fe604109",
   "metadata": {},
   "outputs": [],
   "source": [
    "# Set the random seed\n",
    "RANDOM_SEED = 42\n",
    "random.seed(RANDOM_SEED)"
   ]
  },
  {
   "cell_type": "code",
   "execution_count": 5,
   "id": "02a72c1e",
   "metadata": {},
   "outputs": [],
   "source": [
    "toolbox = base.Toolbox()\n",
    "# Create an operator defining the alias of `random.randint(0, 1)` as `zeroOrOne`\n",
    "toolbox.register(\"zeroOrOne\", random.randint, 0, 1)\n",
    "\n",
    "# Populate a `list` with `initRepeat`\n",
    "# randomList = tools.initRepeat(list, toolbox.zeroOrOne, 30)\n",
    "# print(randomList)"
   ]
  },
  {
   "cell_type": "code",
   "execution_count": 6,
   "id": "d0676562",
   "metadata": {},
   "outputs": [],
   "source": [
    "# Define the fitness strategy by extending the `base.Fitness` class\n",
    "creator.create(\"FitnessMax\", base.Fitness, weights=(1.0,))"
   ]
  },
  {
   "cell_type": "code",
   "execution_count": 7,
   "id": "a5d24210",
   "metadata": {},
   "outputs": [],
   "source": [
    "# Create the `Individual` class based on `list`\n",
    "creator.create(\"Individual\", list, fitness=creator.FitnessMax)"
   ]
  },
  {
   "cell_type": "code",
   "execution_count": 8,
   "id": "05d82bae",
   "metadata": {},
   "outputs": [],
   "source": [
    "# Create the `individualCreator` operator to fill up an `Individual` instance\n",
    "toolbox.register(\"individualCreator\", tools.initRepeat, creator.Individual, toolbox.zeroOrOne, ONE_MAX_LENGTH)"
   ]
  },
  {
   "cell_type": "code",
   "execution_count": 9,
   "id": "a08a91f9",
   "metadata": {},
   "outputs": [],
   "source": [
    "# Create the population operator to generate a list of individuals\n",
    "toolbox.register(\"populationCreator\", tools.initRepeat, list, toolbox.individualCreator)"
   ]
  },
  {
   "cell_type": "code",
   "execution_count": 10,
   "id": "d60a75a2",
   "metadata": {},
   "outputs": [],
   "source": [
    "# Fitness Calculation\n",
    "# Compute the number of `1`s in the individual\n",
    "def oneMaxFitness(individual):\n",
    "    # Return a Tuple\n",
    "    return sum(individual)\n",
    "\n",
    "toolbox.register(\"evaluate\", oneMaxFitness)"
   ]
  },
  {
   "cell_type": "code",
   "execution_count": 11,
   "id": "83eeb119",
   "metadata": {},
   "outputs": [],
   "source": [
    "# Genetic Operators\n",
    "# Tournament selection with tournament size of `3`\n",
    "toolbox.register(\"select\", tools.selTournament, tournsize=3)"
   ]
  },
  {
   "cell_type": "code",
   "execution_count": 12,
   "id": "258755d7",
   "metadata": {},
   "outputs": [],
   "source": [
    "# Single-point crossover\n",
    "toolbox.register(\"mate\", tools.cxOnePoint)"
   ]
  },
  {
   "cell_type": "code",
   "execution_count": 13,
   "id": "a1fac5e2",
   "metadata": {},
   "outputs": [],
   "source": [
    "# Flip-bit mutation\n",
    "# indpb: Independent probability for each attribute to be flipped\n",
    "toolbox.register(\"mutate\", tools.mutFlipBit, indpb=1.0/ONE_MAX_LENGTH)"
   ]
  },
  {
   "cell_type": "code",
   "execution_count": 15,
   "id": "8553e55a",
   "metadata": {},
   "outputs": [
    {
     "name": "stdout",
     "output_type": "stream",
     "text": [
      "[2, 4, 6, 8]\n"
     ]
    }
   ],
   "source": [
    "# Python `map()` function\n",
    "def addition(n):\n",
    "    return n + n\n",
    "\n",
    "numbers = (1, 2, 3, 4)\n",
    "result = map(addition, numbers)\n",
    "print(list(result))"
   ]
  },
  {
   "cell_type": "code",
   "execution_count": 18,
   "id": "068cd3a6",
   "metadata": {},
   "outputs": [
    {
     "name": "stdout",
     "output_type": "stream",
     "text": [
      "(('Morrigan', 'Aensland'), ('Kula', 'Diamond'), ('Jennie', 'Behrn'))\n"
     ]
    }
   ],
   "source": [
    "# Python `zip()` function\n",
    "a = (\"Morrigan\", \"Kula\", \"Jennie\")\n",
    "b = (\"Aensland\", \"Diamond\", \"Behrn\")\n",
    "\n",
    "x = zip(a, b)\n",
    "print(tuple(x))"
   ]
  },
  {
   "cell_type": "code",
   "execution_count": 14,
   "id": "17048d60",
   "metadata": {},
   "outputs": [],
   "source": [
    "# Genetic Algorithm flow:\n",
    "def main():\n",
    "    \n",
    "    # Create initial population (generation 0):\n",
    "    population = toolbox.populationCreator(n=POPULATION_SIZE)\n",
    "    generationCounter = 0\n",
    "    \n",
    "    # Calculate fitness tuple for each individual in the population\n",
    "    fitnessValues = list(map(toolbox.evaluate, population))\n",
    "    for individual, fitnessValue in zip(population, fitnessValues):\n",
    "        # `individual` is a list of `fitness` (in this case, `FitnessMax`)\n",
    "        individual.fitness.values = fitnessValue\n",
    "        \n",
    "    # Extract fitness values from all individuals in population\n",
    "    fitnessValues = [individual.fitness.values[0] for individual in population]\n",
    "    \n",
    "    # Initialize statistics accumulators\n",
    "    maxFitnessValues= []\n",
    "    meanFitnessValues = []"
   ]
  }
 ],
 "metadata": {
  "kernelspec": {
   "display_name": "Python 3 (ipykernel)",
   "language": "python",
   "name": "python3"
  },
  "language_info": {
   "codemirror_mode": {
    "name": "ipython",
    "version": 3
   },
   "file_extension": ".py",
   "mimetype": "text/x-python",
   "name": "python",
   "nbconvert_exporter": "python",
   "pygments_lexer": "ipython3",
   "version": "3.8.8"
  }
 },
 "nbformat": 4,
 "nbformat_minor": 5
}
