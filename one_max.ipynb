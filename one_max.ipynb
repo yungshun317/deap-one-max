{
 "cells": [
  {
   "cell_type": "code",
   "execution_count": 2,
   "id": "3df2fcc4",
   "metadata": {},
   "outputs": [],
   "source": [
    "from deap import base, creator, tools\n",
    "import random"
   ]
  },
  {
   "cell_type": "code",
   "execution_count": null,
   "id": "a72c47fc",
   "metadata": {},
   "outputs": [],
   "source": [
    "# Problem constants\n",
    "# Length of bit string to be optimized\n",
    "ONE_MAX_LENGTH = 100"
   ]
  },
  {
   "cell_type": "code",
   "execution_count": null,
   "id": "fb001660",
   "metadata": {},
   "outputs": [],
   "source": [
    "# Genetic Algorithm constants\n",
    "POPULATION_SIZE = 200\n",
    "# Probability for crossover\n",
    "P_CROSSOVER = 0.9\n",
    "# Probability for mutating an individual\n",
    "P_MUTATION = 0.1\n",
    "MAX_GENERATIONS = 50"
   ]
  },
  {
   "cell_type": "code",
   "execution_count": null,
   "id": "2b4ee1fe",
   "metadata": {},
   "outputs": [],
   "source": [
    "# Set the random seed\n",
    "RANDOM_SEED = 42\n",
    "random.seed(RANDOM_SEED)"
   ]
  },
  {
   "cell_type": "code",
   "execution_count": 5,
   "id": "ff6603cd",
   "metadata": {},
   "outputs": [
    {
     "name": "stdout",
     "output_type": "stream",
     "text": [
      "[0, 0, 0, 1, 0, 1, 0, 0, 0, 1, 1, 0, 1, 1, 1, 0, 0, 0, 0, 1, 0, 0, 1, 0, 0, 1, 0, 0, 0, 1]\n"
     ]
    }
   ],
   "source": [
    "toolbox = base.Toolbox()\n",
    "# Create an operator defining the alias of `random.randint(0, 1)` as `zeroOrOne`\n",
    "toolbox.register(\"zeroOrOne\", random.randint, 0, 1)\n",
    "\n",
    "# Populate a `list` with `initRepeat`\n",
    "# randomList = tools.initRepeat(list, toolbox.zeroOrOne, 30)\n",
    "# print(randomList)"
   ]
  },
  {
   "cell_type": "code",
   "execution_count": 6,
   "id": "1c902579",
   "metadata": {},
   "outputs": [],
   "source": [
    "# Define the fitness strategy by extending the `base.Fitness` class\n",
    "creator.create(\"FitnessMax\", base.Fitness, weights=(1.0,))"
   ]
  },
  {
   "cell_type": "code",
   "execution_count": 7,
   "id": "5f070d56",
   "metadata": {},
   "outputs": [],
   "source": [
    "# Create the `Individual` class based on `list`\n",
    "creator.create(\"Individual\", list, fitness=creator.FitnessMax)"
   ]
  },
  {
   "cell_type": "code",
   "execution_count": null,
   "id": "e5866265",
   "metadata": {},
   "outputs": [],
   "source": [
    "# Create the `individualCreator` operator to fill up an `Individual` instance\n",
    "toolbox.register(\"individualCreator\", tools.initRepeat, creator.Individual, toolbox.zeroOrOne, ONE_MAX_LENGTH)"
   ]
  },
  {
   "cell_type": "code",
   "execution_count": null,
   "id": "9fb60c83",
   "metadata": {},
   "outputs": [],
   "source": [
    "# Create the population operator to generate a list of individuals\n",
    "toolbox.register(\"populationCreator\", tools.initRepeat, list, toolbox.individualCreator)"
   ]
  },
  {
   "cell_type": "code",
   "execution_count": null,
   "id": "38b40d54",
   "metadata": {},
   "outputs": [],
   "source": [
    "# Fitness Calculation\n",
    "# Compute the number of `1`s in the individual\n",
    "def oneMaxFitness(individual):\n",
    "    # Return a Tuple\n",
    "    return sum(individual)\n",
    "\n",
    "toolbox.register(\"evaluate\", oneMaxFitness)"
   ]
  },
  {
   "cell_type": "code",
   "execution_count": null,
   "id": "b4214e52",
   "metadata": {},
   "outputs": [],
   "source": [
    "# Genetic Operators\n",
    "# Tournament selection with tournament size of `3`\n",
    "toolbox.register(\"select\", tool.selTournament, tournsize=3)"
   ]
  }
 ],
 "metadata": {
  "kernelspec": {
   "display_name": "Python 3 (ipykernel)",
   "language": "python",
   "name": "python3"
  },
  "language_info": {
   "codemirror_mode": {
    "name": "ipython",
    "version": 3
   },
   "file_extension": ".py",
   "mimetype": "text/x-python",
   "name": "python",
   "nbconvert_exporter": "python",
   "pygments_lexer": "ipython3",
   "version": "3.8.8"
  }
 },
 "nbformat": 4,
 "nbformat_minor": 5
}
